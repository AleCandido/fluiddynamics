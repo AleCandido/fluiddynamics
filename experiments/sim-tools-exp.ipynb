{
 "cells": [
  {
   "cell_type": "markdown",
   "metadata": {},
   "source": [
    "# Experimenting simulation tools\n",
    "\n",
    "This notebook is a playground to try some `python` tools to improve simulations."
   ]
  },
  {
   "cell_type": "code",
   "execution_count": 1,
   "metadata": {},
   "outputs": [],
   "source": [
    "import numpy as np\n",
    "import numba as nb"
   ]
  },
  {
   "cell_type": "markdown",
   "metadata": {},
   "source": [
    "## Numba"
   ]
  },
  {
   "cell_type": "markdown",
   "metadata": {},
   "source": [
    "### Vectorize"
   ]
  },
  {
   "cell_type": "code",
   "execution_count": 2,
   "metadata": {},
   "outputs": [],
   "source": [
    "grid = np.linspace(-3, 3, 5000)\n",
    "x, y = np.meshgrid(grid, grid)"
   ]
  },
  {
   "cell_type": "code",
   "execution_count": 3,
   "metadata": {},
   "outputs": [
    {
     "name": "stdout",
     "output_type": "stream",
     "text": [
      "726 ms ± 11.1 ms per loop (mean ± std. dev. of 7 runs, 1 loop each)\n"
     ]
    }
   ],
   "source": [
    "def f(x, y):\n",
    "    return np.cos(x ** 2 + y ** 2) / (1 + x ** 2 + y ** 2)\n",
    "\n",
    "\n",
    "%timeit np.max(f(x, y))"
   ]
  },
  {
   "cell_type": "code",
   "execution_count": 4,
   "metadata": {},
   "outputs": [
    {
     "name": "stdout",
     "output_type": "stream",
     "text": [
      "462 ms ± 2.48 ms per loop (mean ± std. dev. of 7 runs, 1 loop each)\n"
     ]
    }
   ],
   "source": [
    "@nb.vectorize\n",
    "def f_vec(x, y):\n",
    "    return np.cos(x ** 2 + y ** 2) / (1 + x ** 2 + y ** 2)\n",
    "\n",
    "\n",
    "%timeit np.max(f_vec(x, y))"
   ]
  },
  {
   "cell_type": "markdown",
   "metadata": {},
   "source": [
    "##### Parallel"
   ]
  },
  {
   "cell_type": "code",
   "execution_count": 5,
   "metadata": {},
   "outputs": [
    {
     "name": "stdout",
     "output_type": "stream",
     "text": [
      "143 ms ± 12 ms per loop (mean ± std. dev. of 7 runs, 10 loops each)\n"
     ]
    }
   ],
   "source": [
    "@nb.vectorize(\"float64(float64, float64)\", target=\"parallel\")\n",
    "def f_vec_par(x, y):\n",
    "    return np.cos(x ** 2 + y ** 2) / (1 + x ** 2 + y ** 2)\n",
    "\n",
    "\n",
    "%timeit np.max(f_vec_par(x, y))"
   ]
  },
  {
   "cell_type": "markdown",
   "metadata": {},
   "source": [
    "### Loops"
   ]
  },
  {
   "cell_type": "code",
   "execution_count": 6,
   "metadata": {},
   "outputs": [
    {
     "name": "stdout",
     "output_type": "stream",
     "text": [
      "4.96 s ± 29.6 ms per loop (mean ± std. dev. of 7 runs, 1 loop each)\n"
     ]
    }
   ],
   "source": [
    "def loop():\n",
    "    arr = np.zeros(100)\n",
    "    for j in range(len(arr)):\n",
    "        for _ in range(int(1e5)):\n",
    "            arr[j] += 1\n",
    "\n",
    "    return arr\n",
    "\n",
    "\n",
    "%timeit loop()"
   ]
  },
  {
   "cell_type": "code",
   "execution_count": 7,
   "metadata": {},
   "outputs": [
    {
     "name": "stdout",
     "output_type": "stream",
     "text": [
      "8.55 ms ± 92 µs per loop (mean ± std. dev. of 7 runs, 100 loops each)\n"
     ]
    }
   ],
   "source": [
    "@nb.njit\n",
    "def nb_loop():\n",
    "    arr = np.zeros(100)\n",
    "    for j in range(len(arr)):\n",
    "        for _ in range(int(1e5)):\n",
    "            arr[j] += 1\n",
    "\n",
    "    return arr\n",
    "\n",
    "\n",
    "%timeit nb_loop()"
   ]
  },
  {
   "cell_type": "code",
   "execution_count": 8,
   "metadata": {},
   "outputs": [
    {
     "name": "stdout",
     "output_type": "stream",
     "text": [
      "2.79 ms ± 443 µs per loop (mean ± std. dev. of 7 runs, 1 loop each)\n"
     ]
    }
   ],
   "source": [
    "@nb.njit(parallel=True)\n",
    "def nb_loop_par():\n",
    "    arr = np.zeros(100)\n",
    "    for j in nb.prange(len(arr)):\n",
    "        for _ in nb.prange(int(1e5)):\n",
    "            arr[j] += 1\n",
    "\n",
    "    return arr\n",
    "\n",
    "\n",
    "%timeit nb_loop_par()"
   ]
  },
  {
   "cell_type": "markdown",
   "metadata": {},
   "source": [
    "### Functions as arguments"
   ]
  },
  {
   "cell_type": "code",
   "execution_count": 9,
   "metadata": {},
   "outputs": [
    {
     "name": "stdout",
     "output_type": "stream",
     "text": [
      "11.9 µs ± 177 ns per loop (mean ± std. dev. of 7 runs, 100000 loops each)\n"
     ]
    }
   ],
   "source": [
    "@nb.jit\n",
    "def add1(x):\n",
    "    return x + 1\n",
    "\n",
    "@nb.jit\n",
    "def bar(fn, x):\n",
    "    return fn(x)\n",
    "\n",
    "# Passing add1 into bar from interpreted code\n",
    "%timeit bar(add1, 1)"
   ]
  },
  {
   "cell_type": "code",
   "execution_count": 10,
   "metadata": {},
   "outputs": [
    {
     "name": "stdout",
     "output_type": "stream",
     "text": [
      "164 ns ± 0.473 ns per loop (mean ± std. dev. of 7 runs, 10000000 loops each)\n"
     ]
    }
   ],
   "source": [
    "@nb.jit\n",
    "def foo(x):\n",
    "    return bar(add1, x)\n",
    "\n",
    "# Passing add1 within numba compiled code.\n",
    "%timeit foo(1)"
   ]
  }
 ],
 "metadata": {
  "kernelspec": {
   "display_name": "Python 3",
   "language": "python",
   "name": "python3"
  },
  "language_info": {
   "codemirror_mode": {
    "name": "ipython",
    "version": 3
   },
   "file_extension": ".py",
   "mimetype": "text/x-python",
   "name": "python",
   "nbconvert_exporter": "python",
   "pygments_lexer": "ipython3",
   "version": "3.8.3"
  }
 },
 "nbformat": 4,
 "nbformat_minor": 4
}
